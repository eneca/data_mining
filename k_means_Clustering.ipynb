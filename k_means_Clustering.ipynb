{
  "nbformat": 4,
  "nbformat_minor": 0,
  "metadata": {
    "colab": {
      "provenance": [],
      "authorship_tag": "ABX9TyMYhmqT9GIjmYVA0yise+ze"
    },
    "kernelspec": {
      "name": "python3",
      "display_name": "Python 3"
    },
    "language_info": {
      "name": "python"
    },
    "widgets": {
      "application/vnd.jupyter.widget-state+json": {
        "cf20b8ea99f84aecafe64dc18385b4c3": {
          "model_module": "@jupyter-widgets/controls",
          "model_name": "VBoxModel",
          "model_module_version": "1.5.0",
          "state": {
            "_dom_classes": [
              "widget-interact"
            ],
            "_model_module": "@jupyter-widgets/controls",
            "_model_module_version": "1.5.0",
            "_model_name": "VBoxModel",
            "_view_count": null,
            "_view_module": "@jupyter-widgets/controls",
            "_view_module_version": "1.5.0",
            "_view_name": "VBoxView",
            "box_style": "",
            "children": [
              "IPY_MODEL_3a7704a2290c44e5b203ffc5705c1c1d",
              "IPY_MODEL_9cc34becc98641578f156ee4c6a383bd"
            ],
            "layout": "IPY_MODEL_6a90ccb532fd4d4ca8e958f57def3261"
          }
        },
        "3a7704a2290c44e5b203ffc5705c1c1d": {
          "model_module": "@jupyter-widgets/controls",
          "model_name": "IntSliderModel",
          "model_module_version": "1.5.0",
          "state": {
            "_dom_classes": [],
            "_model_module": "@jupyter-widgets/controls",
            "_model_module_version": "1.5.0",
            "_model_name": "IntSliderModel",
            "_view_count": null,
            "_view_module": "@jupyter-widgets/controls",
            "_view_module_version": "1.5.0",
            "_view_name": "IntSliderView",
            "continuous_update": true,
            "description": "Iteration:",
            "description_tooltip": null,
            "disabled": false,
            "layout": "IPY_MODEL_3767b7ccc5c844bcba229c12940c5e04",
            "max": 20,
            "min": 0,
            "orientation": "horizontal",
            "readout": true,
            "readout_format": "d",
            "step": 1,
            "style": "IPY_MODEL_cd0168fb649d42409cf8e54229d91de9",
            "value": 20
          }
        },
        "9cc34becc98641578f156ee4c6a383bd": {
          "model_module": "@jupyter-widgets/output",
          "model_name": "OutputModel",
          "model_module_version": "1.0.0",
          "state": {
            "_dom_classes": [],
            "_model_module": "@jupyter-widgets/output",
            "_model_module_version": "1.0.0",
            "_model_name": "OutputModel",
            "_view_count": null,
            "_view_module": "@jupyter-widgets/output",
            "_view_module_version": "1.0.0",
            "_view_name": "OutputView",
            "layout": "IPY_MODEL_68eac0c6c7f142d68e2a91d65f69022b",
            "msg_id": "",
            "outputs": []
          }
        },
        "6a90ccb532fd4d4ca8e958f57def3261": {
          "model_module": "@jupyter-widgets/base",
          "model_name": "LayoutModel",
          "model_module_version": "1.2.0",
          "state": {
            "_model_module": "@jupyter-widgets/base",
            "_model_module_version": "1.2.0",
            "_model_name": "LayoutModel",
            "_view_count": null,
            "_view_module": "@jupyter-widgets/base",
            "_view_module_version": "1.2.0",
            "_view_name": "LayoutView",
            "align_content": null,
            "align_items": null,
            "align_self": null,
            "border": null,
            "bottom": null,
            "display": null,
            "flex": null,
            "flex_flow": null,
            "grid_area": null,
            "grid_auto_columns": null,
            "grid_auto_flow": null,
            "grid_auto_rows": null,
            "grid_column": null,
            "grid_gap": null,
            "grid_row": null,
            "grid_template_areas": null,
            "grid_template_columns": null,
            "grid_template_rows": null,
            "height": null,
            "justify_content": null,
            "justify_items": null,
            "left": null,
            "margin": null,
            "max_height": null,
            "max_width": null,
            "min_height": null,
            "min_width": null,
            "object_fit": null,
            "object_position": null,
            "order": null,
            "overflow": null,
            "overflow_x": null,
            "overflow_y": null,
            "padding": null,
            "right": null,
            "top": null,
            "visibility": null,
            "width": null
          }
        },
        "3767b7ccc5c844bcba229c12940c5e04": {
          "model_module": "@jupyter-widgets/base",
          "model_name": "LayoutModel",
          "model_module_version": "1.2.0",
          "state": {
            "_model_module": "@jupyter-widgets/base",
            "_model_module_version": "1.2.0",
            "_model_name": "LayoutModel",
            "_view_count": null,
            "_view_module": "@jupyter-widgets/base",
            "_view_module_version": "1.2.0",
            "_view_name": "LayoutView",
            "align_content": null,
            "align_items": null,
            "align_self": null,
            "border": null,
            "bottom": null,
            "display": null,
            "flex": null,
            "flex_flow": null,
            "grid_area": null,
            "grid_auto_columns": null,
            "grid_auto_flow": null,
            "grid_auto_rows": null,
            "grid_column": null,
            "grid_gap": null,
            "grid_row": null,
            "grid_template_areas": null,
            "grid_template_columns": null,
            "grid_template_rows": null,
            "height": null,
            "justify_content": null,
            "justify_items": null,
            "left": null,
            "margin": null,
            "max_height": null,
            "max_width": null,
            "min_height": null,
            "min_width": null,
            "object_fit": null,
            "object_position": null,
            "order": null,
            "overflow": null,
            "overflow_x": null,
            "overflow_y": null,
            "padding": null,
            "right": null,
            "top": null,
            "visibility": null,
            "width": null
          }
        },
        "cd0168fb649d42409cf8e54229d91de9": {
          "model_module": "@jupyter-widgets/controls",
          "model_name": "SliderStyleModel",
          "model_module_version": "1.5.0",
          "state": {
            "_model_module": "@jupyter-widgets/controls",
            "_model_module_version": "1.5.0",
            "_model_name": "SliderStyleModel",
            "_view_count": null,
            "_view_module": "@jupyter-widgets/base",
            "_view_module_version": "1.2.0",
            "_view_name": "StyleView",
            "description_width": "",
            "handle_color": null
          }
        },
        "68eac0c6c7f142d68e2a91d65f69022b": {
          "model_module": "@jupyter-widgets/base",
          "model_name": "LayoutModel",
          "model_module_version": "1.2.0",
          "state": {
            "_model_module": "@jupyter-widgets/base",
            "_model_module_version": "1.2.0",
            "_model_name": "LayoutModel",
            "_view_count": null,
            "_view_module": "@jupyter-widgets/base",
            "_view_module_version": "1.2.0",
            "_view_name": "LayoutView",
            "align_content": null,
            "align_items": null,
            "align_self": null,
            "border": null,
            "bottom": null,
            "display": null,
            "flex": null,
            "flex_flow": null,
            "grid_area": null,
            "grid_auto_columns": null,
            "grid_auto_flow": null,
            "grid_auto_rows": null,
            "grid_column": null,
            "grid_gap": null,
            "grid_row": null,
            "grid_template_areas": null,
            "grid_template_columns": null,
            "grid_template_rows": null,
            "height": null,
            "justify_content": null,
            "justify_items": null,
            "left": null,
            "margin": null,
            "max_height": null,
            "max_width": null,
            "min_height": null,
            "min_width": null,
            "object_fit": null,
            "object_position": null,
            "order": null,
            "overflow": null,
            "overflow_x": null,
            "overflow_y": null,
            "padding": null,
            "right": null,
            "top": null,
            "visibility": null,
            "width": null
          }
        },
        "a13f6ccaf5ac4da18b0161d820cd148f": {
          "model_module": "jupyter-matplotlib",
          "model_name": "MPLCanvasModel",
          "model_module_version": "^0.11",
          "state": {
            "_cursor": "default",
            "_data_url": "data:image/png;base64,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",
            "_dom_classes": [],
            "_figure_label": "Figure 1",
            "_image_mode": "full",
            "_message": "",
            "_model_module": "jupyter-matplotlib",
            "_model_module_version": "^0.11",
            "_model_name": "MPLCanvasModel",
            "_rubberband_height": 0,
            "_rubberband_width": 0,
            "_rubberband_x": 0,
            "_rubberband_y": 0,
            "_size": [
              1036,
              497
            ],
            "_view_count": null,
            "_view_module": "jupyter-matplotlib",
            "_view_module_version": "^0.11",
            "_view_name": "MPLCanvasView",
            "capture_scroll": false,
            "footer_visible": true,
            "header_visible": true,
            "layout": "IPY_MODEL_dab18fe12a0944288f761e33add3316d",
            "pan_zoom_throttle": 33,
            "resizable": true,
            "toolbar": "IPY_MODEL_87b31c4f8b8d4473815d67f82927490a",
            "toolbar_position": "left",
            "toolbar_visible": "fade-in-fade-out"
          }
        },
        "dab18fe12a0944288f761e33add3316d": {
          "model_module": "@jupyter-widgets/base",
          "model_name": "LayoutModel",
          "model_module_version": "1.2.0",
          "state": {
            "_model_module": "@jupyter-widgets/base",
            "_model_module_version": "1.2.0",
            "_model_name": "LayoutModel",
            "_view_count": null,
            "_view_module": "@jupyter-widgets/base",
            "_view_module_version": "1.2.0",
            "_view_name": "LayoutView",
            "align_content": null,
            "align_items": null,
            "align_self": null,
            "border": null,
            "bottom": null,
            "display": null,
            "flex": null,
            "flex_flow": null,
            "grid_area": null,
            "grid_auto_columns": null,
            "grid_auto_flow": null,
            "grid_auto_rows": null,
            "grid_column": null,
            "grid_gap": null,
            "grid_row": null,
            "grid_template_areas": null,
            "grid_template_columns": null,
            "grid_template_rows": null,
            "height": null,
            "justify_content": null,
            "justify_items": null,
            "left": null,
            "margin": null,
            "max_height": null,
            "max_width": null,
            "min_height": null,
            "min_width": null,
            "object_fit": null,
            "object_position": null,
            "order": null,
            "overflow": null,
            "overflow_x": null,
            "overflow_y": null,
            "padding": null,
            "right": null,
            "top": null,
            "visibility": null,
            "width": null
          }
        },
        "87b31c4f8b8d4473815d67f82927490a": {
          "model_module": "jupyter-matplotlib",
          "model_name": "ToolbarModel",
          "model_module_version": "^0.11",
          "state": {
            "_current_action": "",
            "_dom_classes": [],
            "_model_module": "jupyter-matplotlib",
            "_model_module_version": "^0.11",
            "_model_name": "ToolbarModel",
            "_view_count": null,
            "_view_module": "jupyter-matplotlib",
            "_view_module_version": "^0.11",
            "_view_name": "ToolbarView",
            "button_style": "",
            "collapsed": true,
            "layout": "IPY_MODEL_2fab71c3bb644631a0d6cdb564534152",
            "orientation": "vertical",
            "toolitems": [
              [
                "Home",
                "Reset original view",
                "home",
                "home"
              ],
              [
                "Back",
                "Back to previous view",
                "arrow-left",
                "back"
              ],
              [
                "Forward",
                "Forward to next view",
                "arrow-right",
                "forward"
              ],
              [
                "Pan",
                "Left button pans, Right button zooms\nx/y fixes axis, CTRL fixes aspect",
                "arrows",
                "pan"
              ],
              [
                "Zoom",
                "Zoom to rectangle\nx/y fixes axis",
                "square-o",
                "zoom"
              ],
              [
                "Download",
                "Download plot",
                "floppy-o",
                "save_figure"
              ]
            ]
          }
        },
        "2fab71c3bb644631a0d6cdb564534152": {
          "model_module": "@jupyter-widgets/base",
          "model_name": "LayoutModel",
          "model_module_version": "1.2.0",
          "state": {
            "_model_module": "@jupyter-widgets/base",
            "_model_module_version": "1.2.0",
            "_model_name": "LayoutModel",
            "_view_count": null,
            "_view_module": "@jupyter-widgets/base",
            "_view_module_version": "1.2.0",
            "_view_name": "LayoutView",
            "align_content": null,
            "align_items": null,
            "align_self": null,
            "border": null,
            "bottom": null,
            "display": null,
            "flex": null,
            "flex_flow": null,
            "grid_area": null,
            "grid_auto_columns": null,
            "grid_auto_flow": null,
            "grid_auto_rows": null,
            "grid_column": null,
            "grid_gap": null,
            "grid_row": null,
            "grid_template_areas": null,
            "grid_template_columns": null,
            "grid_template_rows": null,
            "height": null,
            "justify_content": null,
            "justify_items": null,
            "left": null,
            "margin": null,
            "max_height": null,
            "max_width": null,
            "min_height": null,
            "min_width": null,
            "object_fit": null,
            "object_position": null,
            "order": null,
            "overflow": null,
            "overflow_x": null,
            "overflow_y": null,
            "padding": null,
            "right": null,
            "top": null,
            "visibility": null,
            "width": null
          }
        }
      }
    }
  },
  "cells": [
    {
      "cell_type": "code",
      "source": [
        "from google.colab import output\n",
        "output.enable_custom_widget_manager()"
      ],
      "metadata": {
        "id": "kokLW4jKA4Q2"
      },
      "execution_count": 1,
      "outputs": []
    },
    {
      "cell_type": "code",
      "execution_count": 2,
      "metadata": {
        "id": "Xx4bH3SX8JVJ"
      },
      "outputs": [],
      "source": [
        "import numpy as np\n",
        "from sklearn.datasets import load_iris\n",
        "from sklearn.neighbors import NearestNeighbors\n",
        "from scipy.spatial import distance\n",
        "import matplotlib.pyplot as plt\n",
        "from ipywidgets import interact\n",
        "import ipywidgets as widgets"
      ]
    },
    {
      "cell_type": "code",
      "source": [
        "dataset = load_iris()\n",
        "data = dataset['data'][:,2:]\n",
        "k = 3\n",
        "iterations = 20"
      ],
      "metadata": {
        "id": "32DXfHHE8ffM"
      },
      "execution_count": 3,
      "outputs": []
    },
    {
      "cell_type": "code",
      "source": [
        "def reassign(prototypes):\n",
        "  nbrs = NearestNeighbors(n_neighbors = 1).fit(prototypes) \n",
        "  _, indices = nbrs.kneighbors(data)\n",
        "  return indices.flatten()\n",
        "\n",
        "def recalculate(indices):\n",
        "  prototypes = []\n",
        "  clusters = []\n",
        "\n",
        "  for i in range(k): #create k empty clusters\n",
        "    clusters.append([])\n",
        "\n",
        "  for i in range(len(indices)): #add data points to clusters\n",
        "    clusters[indices[i]].append(data[i]) #calculate cluster centers\n",
        "\n",
        "  for cluster in clusters:\n",
        "    center = sum(cluster) / len(cluster) #error for empty clusters\n",
        "    prototypes.append(center)\n",
        "\n",
        "  return np.array(prototypes)\n",
        "\n",
        "def total_variances(indices, prototypes):\n",
        "  distances = distance.cdist(data, prototypes, 'euclidean') \n",
        "  variance = 0\n",
        "\n",
        "  for i in range(len(indices)):\n",
        "    variance += distances[i][indices[i]]**2\n",
        "    \n",
        "  return variance"
      ],
      "metadata": {
        "id": "m8_Iq7Ht89w9"
      },
      "execution_count": 4,
      "outputs": []
    },
    {
      "cell_type": "code",
      "source": [
        "np.random.seed(2)\n",
        "cluster_prototypes = []\n",
        "cluster_indices = []\n",
        "variances = []\n",
        "\n",
        "current_prototypes = []\n",
        "maxindex = len(data) - 1 \n",
        "\n",
        "for i in range(k):\n",
        "  current_prototypes.append(data[np.random.randint(0,maxindex)])\n",
        "\n",
        "current_prototypes = np.array(current_prototypes)\n",
        "cluster_prototypes.append(current_prototypes)\n",
        "\n",
        "#first assignment\n",
        "current_indices = reassign(current_prototypes)\n",
        "cluster_indices.append(current_indices)\n",
        "variances.append(total_variances(current_indices, current_prototypes))\n",
        "\n",
        "#iterate\n",
        "for i in range(20):\n",
        "  current_prototypes = recalculate(current_indices)\n",
        "  current_indices = reassign(current_prototypes)\n",
        "  variances.append(total_variances(current_indices, current_prototypes))\n",
        "\n",
        "  cluster_prototypes.append(current_prototypes)\n",
        "  cluster_indices.append(current_indices)"
      ],
      "metadata": {
        "id": "GekbishW9ejE"
      },
      "execution_count": 5,
      "outputs": []
    },
    {
      "cell_type": "code",
      "source": [
        "%matplotlib widget\n",
        "\n",
        "fig, (ax1, ax2) = plt.subplots(2, 1, figsize=(5, 6),gridspec_kw={'height_ratios': [2, 1]}) \n",
        "fig.subplots_adjust(hspace=0.35, top=0.95, bottom=0.1)\n",
        "\n",
        "def plot_cluster(iteration):\n",
        "  indices = cluster_indices[iteration] \n",
        "  prototypes = cluster_prototypes[iteration]\n",
        "  ax1.clear()\n",
        "  ax2.clear()\n",
        "\n",
        "  # Plot each cluster\n",
        "  for i in range(k):\n",
        "    points = data[indices == i, :]\n",
        "    ax1.scatter(points[:, 0], points[:, 1], c='C{:d}'.format(i), s=15) \n",
        "    ax1.scatter(prototypes[i, 0], prototypes[i, 1], c='C{:d}'.format(i),marker='D', s=50, edgecolor='k', linewidth=2)\n",
        "\n",
        "  ax1.set_xlabel('Petal Lengths (cm)')\n",
        "  ax1.set_ylabel('Petal Widths (cm)')\n",
        "  ax1.set_title('Cluster result')\n",
        "  ax1.set_axisbelow(True)\n",
        "  ax1.grid()\n",
        "\n",
        "  # Variance plot\n",
        "  ax2.plot(variances)\n",
        "  ax2.scatter(iteration, variances[iteration], c='gray', zorder=3)\n",
        "  ax2.set_xlabel('Iteration')\n",
        "  ax2.set_ylabel('$D_{var}$')\n",
        "  ax2.set_title('Variance criterion')\n",
        "  ax2.set_axisbelow(True)\n",
        "  ax2.grid()\n",
        "\n",
        "iteration_slider = widgets.IntSlider(min=0, max=iterations,description='Iteration:')\n",
        "interact(plot_cluster, iteration=iteration_slider);"
      ],
      "metadata": {
        "colab": {
          "base_uri": "https://localhost:8080/",
          "height": 616,
          "referenced_widgets": [
            "cf20b8ea99f84aecafe64dc18385b4c3",
            "3a7704a2290c44e5b203ffc5705c1c1d",
            "9cc34becc98641578f156ee4c6a383bd",
            "6a90ccb532fd4d4ca8e958f57def3261",
            "3767b7ccc5c844bcba229c12940c5e04",
            "cd0168fb649d42409cf8e54229d91de9",
            "68eac0c6c7f142d68e2a91d65f69022b",
            "a13f6ccaf5ac4da18b0161d820cd148f",
            "dab18fe12a0944288f761e33add3316d",
            "87b31c4f8b8d4473815d67f82927490a",
            "2fab71c3bb644631a0d6cdb564534152"
          ]
        },
        "id": "xNoQzfK0-Frt",
        "outputId": "b3422456-2bdf-4f73-c408-174339a9a552"
      },
      "execution_count": 6,
      "outputs": [
        {
          "output_type": "display_data",
          "data": {
            "text/plain": [
              "interactive(children=(IntSlider(value=0, description='Iteration:', max=20), Output()), _dom_classes=('widget-i…"
            ],
            "application/vnd.jupyter.widget-view+json": {
              "version_major": 2,
              "version_minor": 0,
              "model_id": "cf20b8ea99f84aecafe64dc18385b4c3"
            }
          },
          "metadata": {
            "application/vnd.jupyter.widget-view+json": {
              "colab": {
                "custom_widget_manager": {
                  "url": "https://ssl.gstatic.com/colaboratory-static/widgets/colab-cdn-widget-manager/b3e629b1971e1542/manager.min.js"
                }
              }
            }
          }
        },
        {
          "output_type": "display_data",
          "data": {
            "text/plain": [
              "Canvas(toolbar=Toolbar(toolitems=[('Home', 'Reset original view', 'home', 'home'), ('Back', 'Back to previous …"
            ],
            "image/png": "[encoded data removed]",
            "text/html": [
              "\n",
              "            <div style=\"display: inline-block;\">\n",
              "                <div class=\"jupyter-widgets widget-label\" style=\"text-align: center;\">\n",
              "                    Figure\n",
              "                </div>\n",
              "                <img src='data:image/png;base64,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' width=360.0/>\n",
              "            </div>\n",
              "        "
            ],
            "application/vnd.jupyter.widget-view+json": {
              "version_major": 2,
              "version_minor": 0,
              "model_id": "a13f6ccaf5ac4da18b0161d820cd148f"
            }
          },
          "metadata": {
            "application/vnd.jupyter.widget-view+json": {
              "colab": {
                "custom_widget_manager": {
                  "url": "https://ssl.gstatic.com/colaboratory-static/widgets/colab-cdn-widget-manager/b3e629b1971e1542/manager.min.js"
                }
              }
            }
          }
        }
      ]
    }
  ]
}